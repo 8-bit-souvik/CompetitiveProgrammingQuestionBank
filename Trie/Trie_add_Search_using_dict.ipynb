{
 "cells": [
  {
   "cell_type": "code",
   "execution_count": 18,
   "metadata": {},
   "outputs": [],
   "source": [
    "class Trie:\n",
    "    root = {}\n",
    "    \n",
    "    def add(self, word):\n",
    "        cur = self.root\n",
    "        \n",
    "        for ch in word:\n",
    "            if ch not in cur:\n",
    "                cur[ch] = {}\n",
    "            cur = cur[ch]\n",
    "        cur['*'] = True\n",
    "        \n",
    "    def search(self,word):\n",
    "        cur = self.root\n",
    "        \n",
    "        for ch in word:\n",
    "            if ch not in cur:\n",
    "                return False\n",
    "            cur = cur[ch]\n",
    "        if '*' in cur:\n",
    "            return True\n",
    "        else:\n",
    "            return False\n",
    "            \n",
    "    "
   ]
  },
  {
   "cell_type": "code",
   "execution_count": 21,
   "metadata": {},
   "outputs": [
    {
     "name": "stdout",
     "output_type": "stream",
     "text": [
      "True\n",
      "False\n",
      "True\n",
      "True\n",
      "True\n"
     ]
    }
   ],
   "source": [
    "dictionary = Trie()\n",
    "dictionary.add(\"pqr\")\n",
    "dictionary.add(\"pqrst\")\n",
    "print(dictionary.search(\"pqr\"))\n",
    "print(dictionary.search(\"pq\"))\n",
    "print(dictionary.search(\"p\"))\n",
    "print(dictionary.search(\"pqrst\"))\n",
    "dictionary.add(\"p\")\n",
    "print(dictionary.search(\"p\"))"
   ]
  }
 ],
 "metadata": {
  "kernelspec": {
   "display_name": "Python 3",
   "language": "python",
   "name": "python3"
  },
  "language_info": {
   "codemirror_mode": {
    "name": "ipython",
    "version": 3
   },
   "file_extension": ".py",
   "mimetype": "text/x-python",
   "name": "python",
   "nbconvert_exporter": "python",
   "pygments_lexer": "ipython3",
   "version": "3.7.6"
  }
 },
 "nbformat": 4,
 "nbformat_minor": 4
}
